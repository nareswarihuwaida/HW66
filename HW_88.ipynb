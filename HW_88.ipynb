{
  "nbformat": 4,
  "nbformat_minor": 0,
  "metadata": {
    "colab": {
      "provenance": [],
      "include_colab_link": true
    },
    "kernelspec": {
      "name": "python3",
      "display_name": "Python 3"
    },
    "language_info": {
      "name": "python"
    }
  },
  "cells": [
    {
      "cell_type": "markdown",
      "metadata": {
        "id": "view-in-github",
        "colab_type": "text"
      },
      "source": [
        "<a href=\"https://colab.research.google.com/github/nareswarihuwaida/HW66/blob/main/HW_88.ipynb\" target=\"_parent\"><img src=\"https://colab.research.google.com/assets/colab-badge.svg\" alt=\"Open In Colab\"/></a>"
      ]
    },
    {
      "cell_type": "code",
      "execution_count": null,
      "metadata": {
        "id": "vIBgNklQouO_"
      },
      "outputs": [],
      "source": [
        "import pandas as pd\n",
        "\n",
        "# Download data\n",
        "url = \"https://www.econometrics.com/intro/SALES.txt\"\n",
        "data = pd.read_csv(url, delim_whitespace=True)\n",
        "data.to_csv(\"SALES.txt\", index=False)\n"
      ]
    },
    {
      "cell_type": "code",
      "source": [
        "import pandas as pd\n",
        "\n",
        "# Data yang diberikan\n",
        "data_values = [\n",
        "    [12.0, 15.0],\n",
        "    [20.5, 16.0],\n",
        "    [21.0, 18.0],\n",
        "    [15.5, 27.0],\n",
        "    [15.3, 21.0],\n",
        "    [23.5, 49.0],\n",
        "    [24.5, 21.0],\n",
        "    [21.3, 22.0],\n",
        "    [23.5, 28.0],\n",
        "    [28.0, 36.0],\n",
        "    [24.0, 40.0],\n",
        "    [15.5, 3.0],\n",
        "    [17.3, 21.0],\n",
        "    [25.3, 29.0],\n",
        "    [25.0, 62.0],\n",
        "    [36.5, 65.0],\n",
        "    [36.5, 46.0],\n",
        "    [29.6, 44.0],\n",
        "    [30.5, 33.0],\n",
        "    [28.0, 62.0],\n",
        "    [26.0, 22.0],\n",
        "    [21.5, 12.0],\n",
        "    [19.7, 24.0],\n",
        "    [19.0, 3.0],\n",
        "    [16.0, 5.0],\n",
        "    [20.7, 14.0],\n",
        "    [26.5, 36.0],\n",
        "    [30.6, 40.0],\n",
        "    [32.3, 49.0],\n",
        "    [29.5, 7.0],\n",
        "    [28.3, 52.0],\n",
        "    [31.3, 65.0],\n",
        "    [32.3, 17.0],\n",
        "    [26.4, 5.0],\n",
        "    [23.4, 17.0],\n",
        "    [16.4, 1.0]\n",
        "]\n",
        "\n",
        "# Membuat DataFrame\n",
        "df = pd.DataFrame(data_values, columns=['Sales', 'Advertising'])\n",
        "\n",
        "# Simpan DataFrame ke dalam file CSV\n",
        "df.to_csv(\"Sales_Advertising_data.csv\", index=False)\n",
        "\n",
        "# Menampilkan pesan setelah menyimpan\n",
        "print(\"Data telah disimpan ke dalam file Sales_Advertising_data.csv\")\n",
        "\n"
      ],
      "metadata": {
        "colab": {
          "base_uri": "https://localhost:8080/"
        },
        "id": "d7X3ofN0ru-C",
        "outputId": "38dcc7a9-4756-4bdd-9fe8-cdb4a1e91745"
      },
      "execution_count": null,
      "outputs": [
        {
          "output_type": "stream",
          "name": "stdout",
          "text": [
            "Data telah disimpan ke dalam file Sales_Advertising_data.csv\n"
          ]
        }
      ]
    },
    {
      "cell_type": "code",
      "source": [
        "import pandas as pd\n",
        "from sklearn.model_selection import train_test_split\n",
        "from sklearn.linear_model import LinearRegression\n",
        "from sklearn.metrics import mean_squared_error, r2_score\n",
        "import numpy as np\n",
        "\n",
        "# Memuat data dari file CSV\n",
        "df = pd.read_csv(\"Sales_Advertising_data.csv\")\n",
        "\n",
        "# Memberikan nama kolom saat memisahkan fitur (X) dan target (y)\n",
        "X = df[['Sales']]  # fitur\n",
        "X.columns = ['Sales']  # Menambahkan nama kolom 'Sales'\n",
        "y = df['Advertising']  # target\n",
        "\n",
        "# Membagi data menjadi data training dan data testing\n",
        "X_train, X_test, y_train, y_test = train_test_split(X, y, test_size=0.2, random_state=42)\n",
        "\n",
        "# Membuat model regresi linear\n",
        "model = LinearRegression()\n",
        "\n",
        "# Melatih model menggunakan data training\n",
        "model.fit(X_train, y_train)\n",
        "\n",
        "# Prediksi biaya advertising untuk sales tertentu\n",
        "sales_values = [[50], [100], [150]]\n",
        "predictions = model.predict(sales_values)\n",
        "\n",
        "# Menampilkan hasil prediksi\n",
        "for sales, pred in zip(sales_values, predictions):\n",
        "    print(f\"Sales: {sales[0]} million $, Predicted Advertising Cost: {pred} million $\")\n",
        "\n",
        "# Prediksi menggunakan data testing\n",
        "y_pred = model.predict(X_test)\n",
        "\n",
        "# Menghitung RMSE\n",
        "rmse = np.sqrt(mean_squared_error(y_test, y_pred))\n",
        "print(f\"RMSE: {rmse}\")\n",
        "\n",
        "# Menghitung R2 Score\n",
        "r2 = r2_score(y_test, y_pred)\n",
        "print(f\"R2 Score: {r2}\")\n"
      ],
      "metadata": {
        "colab": {
          "base_uri": "https://localhost:8080/"
        },
        "id": "OrjTDvVyt1Pn",
        "outputId": "21148357-46ba-4be3-8414-44a174045189"
      },
      "execution_count": null,
      "outputs": [
        {
          "output_type": "stream",
          "name": "stdout",
          "text": [
            "Sales: 50 million $, Predicted Advertising Cost: 70.64773341965265 million $\n",
            "Sales: 100 million $, Predicted Advertising Cost: 153.75066092686419 million $\n",
            "Sales: 150 million $, Predicted Advertising Cost: 236.85358843407573 million $\n",
            "RMSE: 12.8197563902471\n",
            "R2 Score: 0.5875233784338036\n"
          ]
        },
        {
          "output_type": "stream",
          "name": "stderr",
          "text": [
            "/usr/local/lib/python3.10/dist-packages/sklearn/base.py:439: UserWarning: X does not have valid feature names, but LinearRegression was fitted with feature names\n",
            "  warnings.warn(\n"
          ]
        }
      ]
    },
    {
      "cell_type": "code",
      "source": [
        "# Prediksi biaya advertising untuk masing-masing sales\n",
        "predicted_ad_costs = model.predict(sales_values)\n",
        "print(\"Predicted Advertising Costs:\")\n",
        "for sales, cost in zip([50, 100, 150], predicted_ad_costs):\n",
        "    print(f\"Sales: {sales}, Predicted Advertising Cost: {cost}\")\n"
      ],
      "metadata": {
        "colab": {
          "base_uri": "https://localhost:8080/"
        },
        "id": "EfDHjFsEt_jx",
        "outputId": "12ac3b03-b9cc-4730-827f-5bc4ae7aa853"
      },
      "execution_count": null,
      "outputs": [
        {
          "output_type": "stream",
          "name": "stdout",
          "text": [
            "Predicted Advertising Costs:\n",
            "Sales: 50, Predicted Advertising Cost: 70.64773341965265\n",
            "Sales: 100, Predicted Advertising Cost: 153.75066092686419\n",
            "Sales: 150, Predicted Advertising Cost: 236.85358843407573\n"
          ]
        },
        {
          "output_type": "stream",
          "name": "stderr",
          "text": [
            "/usr/local/lib/python3.10/dist-packages/sklearn/base.py:439: UserWarning: X does not have valid feature names, but LinearRegression was fitted with feature names\n",
            "  warnings.warn(\n"
          ]
        }
      ]
    },
    {
      "cell_type": "code",
      "source": [
        "# Prediksi menggunakan testing set\n",
        "y_pred = model.predict(X_test)\n",
        "\n",
        "# Hitung RMSE\n",
        "rmse = np.sqrt(mean_squared_error(y_test, y_pred))\n",
        "print(f\"RMSE: {rmse}\")\n",
        "\n",
        "# Hitung R2 score\n",
        "r2 = r2_score(y_test, y_pred)\n",
        "print(f\"R2 Score: {r2}\")\n"
      ],
      "metadata": {
        "colab": {
          "base_uri": "https://localhost:8080/"
        },
        "id": "q536hJSluDrk",
        "outputId": "61796d12-51ca-445b-99cf-30a09fde77f8"
      },
      "execution_count": null,
      "outputs": [
        {
          "output_type": "stream",
          "name": "stdout",
          "text": [
            "RMSE: 12.8197563902471\n",
            "R2 Score: 0.5875233784338036\n"
          ]
        }
      ]
    }
  ]
}